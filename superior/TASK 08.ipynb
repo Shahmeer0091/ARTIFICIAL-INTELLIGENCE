{
 "cells": [
  {
   "cell_type": "code",
   "execution_count": 1,
   "metadata": {},
   "outputs": [
    {
     "name": "stdout",
     "output_type": "stream",
     "text": [
      "The optimal value is: 8\n"
     ]
    }
   ],
   "source": [
    "import math\n",
    "def minimax(depth, node_index, scores, height):\n",
    "    if depth == height:\n",
    "        return scores[node_index]\n",
    "    left_score = minimax(depth + 1, node_index * 2, scores, height)\n",
    "    right_score = minimax(depth + 1, node_index * 2 + 1, scores, height)\n",
    "    return max(left_score, right_score)\n",
    "scores = [7, 4, 8, -1, 5, -3, 7, 0, 4, 3, 1, 5]  \n",
    "height = math.log2(len(scores))  \n",
    "optimal_value = minimax(0, 0, scores, int(height))\n",
    "print(\"The optimal value is:\", optimal_value)\n"
   ]
  }
 ],
 "metadata": {
  "kernelspec": {
   "display_name": "base",
   "language": "python",
   "name": "python3"
  },
  "language_info": {
   "codemirror_mode": {
    "name": "ipython",
    "version": 3
   },
   "file_extension": ".py",
   "mimetype": "text/x-python",
   "name": "python",
   "nbconvert_exporter": "python",
   "pygments_lexer": "ipython3",
   "version": "3.11.5"
  }
 },
 "nbformat": 4,
 "nbformat_minor": 2
}
