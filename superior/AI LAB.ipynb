{
 "cells": [
  {
   "cell_type": "code",
   "execution_count": 3,
   "metadata": {},
   "outputs": [
    {
     "name": "stdout",
     "output_type": "stream",
     "text": [
      "the credit card number is valid\n"
     ]
    }
   ],
   "source": [
    "#TASK NO 04 (1)\n",
    "def luhn_algorithum(credit_card_number):\n",
    "    credit_card_number = credit_card_number[::-1]\n",
    "    total = 0\n",
    "\n",
    "    for i, num in enumerate(credit_card_number):\n",
    "        n = int(num)\n",
    "\n",
    "        if i % 2 == 1:\n",
    "            n*=2\n",
    "\n",
    "            if n>9:\n",
    "                n-=9\n",
    "\n",
    "                total +=n\n",
    "\n",
    "    return total % 10 == 0\n",
    "\n",
    "\n",
    "credit_card_number = \"14060107380820\"\n",
    "if luhn_algorithum(credit_card_number):\n",
    "    print(\"the credit card number is valid\")\n",
    "else:\n",
    "    print(\"credit card number is invalid\")"
   ]
  },
  {
   "cell_type": "code",
   "execution_count": 7,
   "metadata": {},
   "outputs": [
    {
     "name": "stdout",
     "output_type": "stream",
     "text": [
      " Is this lab 4 task\n"
     ]
    }
   ],
   "source": [
    "#TASK NO 04 (2)\n",
    "def remove_punctuations(from_user_input):\n",
    "    punctations = \"\"\"!()-[]{};:\"\\<>.,/?@#$%^&*_\"\"\"\n",
    "\n",
    "    a = \" \"\n",
    "    for char in from_user_input:\n",
    "        if char not in punctations:\n",
    "            a+= char\n",
    "    return a\n",
    "from_user_input = \"Is this lab: 4 task?\"\n",
    "removerd_punctuation_sentence = remove_punctuations(from_user_input)\n",
    "print(removerd_punctuation_sentence)\n",
    "\n"
   ]
  },
  {
   "cell_type": "code",
   "execution_count": 16,
   "metadata": {},
   "outputs": [
    {
     "name": "stdout",
     "output_type": "stream",
     "text": [
      "a alphabetically for is sorting test this words\n"
     ]
    }
   ],
   "source": [
    "#TASK NO 04 (3)\n",
    "def sort_words(input_from_user):\n",
    "    a = input_from_user.split()\n",
    "    for j in range (len(a)-1):\n",
    "        for i in range(len(a)-1-j):\n",
    "            if (a[i]>a[i+1]):\n",
    "                a[i],a[i+1] = a[i+1],a[i]\n",
    "\n",
    "    return\" \".join(a)\n",
    "\n",
    "input_from_user = \"this is a test for sorting words alphabetically\"\n",
    "words_afrer_sorting= sort_words(input_from_user)\n",
    "print(words_afrer_sorting)\n"
   ]
  },
  {
   "cell_type": "code",
   "execution_count": 20,
   "metadata": {},
   "outputs": [
    {
     "name": "stdout",
     "output_type": "stream",
     "text": [
      "Living Room: Current temperature = 18°C. Turn on heater.\n",
      "Bedroom: Current temperature = 22°C. Turn off heater.\n",
      "Kitchen: Current temperature = 20°C. Turn on heater.\n",
      "Bathroom: Current temperature = 24°C. Turn off heater.\n",
      "the actions taken in previous are:\n",
      "the room is:Living Room the temperature of this room is:18 action performed is:Turn on heater\n",
      "the room is:Bedroom the temperature of this room is:22 action performed is:Turn off heater\n",
      "the room is:Kitchen the temperature of this room is:20 action performed is:Turn on heater\n",
      "the room is:Bathroom the temperature of this room is:24 action performed is:Turn off heater\n"
     ]
    }
   ],
   "source": [
    "#TASK NO 03\n",
    "class MULTIREFLEX_AGENT:\n",
    "    list_1 = []\n",
    "    def __init__(self, desired_temperature):\n",
    "        self.desired_temperature = desired_temperature \n",
    "        self.previous_actions_taken = []\n",
    "\n",
    "    def perceive(self, current_temperature):\n",
    "        return current_temperature\n",
    "\n",
    "    def act(self,room,current_temperature):\n",
    "        if current_temperature < self.desired_temperature:\n",
    "            action = \"Turn on heater\"\n",
    "        else:\n",
    "            action = \"Turn off heater\"\n",
    "        self.store_previous_actions(current_temperature,room,action)\n",
    "        return action\n",
    "    \n",
    "    def store_previous_actions(self,current_temperature,room,action):\n",
    "        self.previous_actions_taken.append((current_temperature,room,action))\n",
    "\n",
    "    def display_previous_actions(self):\n",
    "        print(\"the actions taken in previous are:\")\n",
    "        for i in self.previous_actions_taken:\n",
    "            current_temperature,room,action = i\n",
    "            print(f\"the room is:{room} the temperature of this room is:{current_temperature} action performed is:{action}\")\n",
    "rooms = {\n",
    "    \"Living Room\": 18,\n",
    "    \"Bedroom\": 22,\n",
    "    \"Kitchen\": 20,\n",
    "    \"Bathroom\": 24\n",
    "}\n",
    "desired_temperature = 22\n",
    "agent = MULTIREFLEX_AGENT(desired_temperature)\n",
    "for room, temperature in rooms.items():\n",
    "    action = agent.act(room,temperature)\n",
    "    print(f\"{room}: Current temperature = {temperature}°C. {action}.\")\n",
    "\n",
    "agent.display_previous_actions()"
   ]
  },
  {
   "cell_type": "code",
   "execution_count": 21,
   "metadata": {},
   "outputs": [
    {
     "name": "stdout",
     "output_type": "stream",
     "text": [
      "1\n",
      "2\n",
      "fizz\n",
      "4\n",
      "fizz buzz\n",
      "fizz\n",
      "7\n",
      "8\n",
      "fizz\n",
      "fizz buzz\n"
     ]
    }
   ],
   "source": [
    "#TASK N0 02 (1)\n",
    "def fizz_buzz(number):\n",
    "    for i in range(1,number+1):\n",
    "        if i% 3 and i% 5  == 0:\n",
    "            print(\"fizz buzz\")\n",
    "        elif i% 3==0:\n",
    "            print(\"fizz\")\n",
    "        elif i% 5 == 0:\n",
    "            print(\"buzz\")\n",
    "        else:\n",
    "            print(i)\n",
    "fizz_buzz(10)"
   ]
  },
  {
   "cell_type": "code",
   "execution_count": 24,
   "metadata": {},
   "outputs": [
    {
     "name": "stdout",
     "output_type": "stream",
     "text": [
      "\n",
      "The average budget of all movies is: $786100283108.88\n",
      "\n",
      "Movies with budgets higher than the average:\n",
      "shahmeer: $6287468764871 (which is $5501368481762.12 above the average)\n",
      "\n",
      "Number of movies with higher than average budgets: 1\n"
     ]
    }
   ],
   "source": [
    "#task no 2(2)\n",
    "movies = [\n",
    "    (\"Eternal Sunshine of the Spotless Mind\", 20000000),\n",
    "    (\"Memento\", 9000000),\n",
    "    (\"Requiem for a Dream\", 4500000),\n",
    "    (\"Pirates of the Caribbean: On Stranger Tides\", 379000000),\n",
    "    (\"Avengers: Age of Ultron\", 365000000),\n",
    "    (\"Avengers: Endgame\", 356000000),\n",
    "    (\"Incredibles 2\", 200000000)\n",
    "]\n",
    "def add_movies():\n",
    "    num_movies =int(input(\"how many movies? \"))\n",
    "    for i in range(num_movies):\n",
    "        name =input(\"what is movie name: \")\n",
    "        budget =int(input(f\"enetr ur budget '{name}': \"))\n",
    "        movies.append((name, budget))\n",
    "def calculate_average_budget(movies):\n",
    "    total_budget= sum(budget for name, budget in movies)\n",
    "    return total_budget / len(movies)\n",
    "def movies_high_budget(movies, average_budget):\n",
    "    high_budget_movies= [movie for movie in movies if movie[1]> average_budget]\n",
    "    \n",
    "    print(\"\\nmovies with high than average budget:\")\n",
    "    for name,budget in high_budget_movies:\n",
    "        print(f\"{name}: ${budget} (which is ${budget - average_budget:.2f} above the average)\")\n",
    "    print(f\"\\nmovies higher than average budget: {len(high_budget_movies)}\")\n",
    "\n",
    "\n",
    "user_choice= input(\"would u like to add more movies(yes/no):\").lower()\n",
    "if user_choice ==\"yes\":\n",
    "    add_movies()\n",
    "average_budget =calculate_average_budget(movies)\n",
    "print(f\"\\nthe average budget is: ${average_budget:.2f}\")\n",
    "movies_high_budget(movies, average_budget)\n"
   ]
  },
  {
   "cell_type": "code",
   "execution_count": 22,
   "metadata": {},
   "outputs": [
    {
     "name": "stdout",
     "output_type": "stream",
     "text": [
      "the answer is:6\n",
      "the answer is:0.3333333333333333\n",
      "the answer is:54\n",
      "existing calculator\n"
     ]
    }
   ],
   "source": [
    "#TASK NO O1\n",
    "def dynamic_calculator():\n",
    "    while True:\n",
    "        input_from_user = input(\"enter ur calculations\")\n",
    "\n",
    "        if input_from_user.lower() == \"exit\":\n",
    "            print(\"existing calculator\")\n",
    "            break\n",
    "        try:\n",
    "            answer = eval(input_from_user)\n",
    "            print(f\"the answer is:{answer}\")\n",
    "        except ZeroDivisionError:\n",
    "            print(\"not divided by zero\")\n",
    "        except Exception as e:\n",
    "            print(f\"enter a valid input{e}\")\n",
    "\n",
    "\n",
    "dynamic_calculator()\n"
   ]
  }
 ],
 "metadata": {
  "kernelspec": {
   "display_name": "base",
   "language": "python",
   "name": "python3"
  },
  "language_info": {
   "codemirror_mode": {
    "name": "ipython",
    "version": 3
   },
   "file_extension": ".py",
   "mimetype": "text/x-python",
   "name": "python",
   "nbconvert_exporter": "python",
   "pygments_lexer": "ipython3",
   "version": "3.11.5"
  }
 },
 "nbformat": 4,
 "nbformat_minor": 2
}
